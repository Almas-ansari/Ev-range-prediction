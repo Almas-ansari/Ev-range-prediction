{
 "cells": [
  {
   "cell_type": "code",
   "execution_count": 1,
   "metadata": {},
   "outputs": [],
   "source": [
    "import pandas as pd\n",
    "import numpy as np\n"
   ]
  },
  {
   "cell_type": "code",
   "execution_count": 24,
   "metadata": {},
   "outputs": [],
   "source": [
    "\n",
    "data=pd.read_csv(\"data.csv\",encoding='ISO-8859-1')"
   ]
  },
  {
   "cell_type": "code",
   "execution_count": 25,
   "metadata": {},
   "outputs": [
    {
     "data": {
      "text/html": [
       "<div>\n",
       "<style scoped>\n",
       "    .dataframe tbody tr th:only-of-type {\n",
       "        vertical-align: middle;\n",
       "    }\n",
       "\n",
       "    .dataframe tbody tr th {\n",
       "        vertical-align: top;\n",
       "    }\n",
       "\n",
       "    .dataframe thead th {\n",
       "        text-align: right;\n",
       "    }\n",
       "</style>\n",
       "<table border=\"1\" class=\"dataframe\">\n",
       "  <thead>\n",
       "    <tr style=\"text-align: right;\">\n",
       "      <th></th>\n",
       "      <th>manufacturer</th>\n",
       "      <th>model</th>\n",
       "      <th>version</th>\n",
       "      <th>fuel_date</th>\n",
       "      <th>odometer</th>\n",
       "      <th>trip_distance(km)</th>\n",
       "      <th>quantity(kWh)</th>\n",
       "      <th>fuel_type</th>\n",
       "      <th>tire_type</th>\n",
       "      <th>city</th>\n",
       "      <th>motor_way</th>\n",
       "      <th>country_roads</th>\n",
       "      <th>driving_style</th>\n",
       "      <th>consumption(kWh/100km)</th>\n",
       "      <th>A/C</th>\n",
       "      <th>park_heating</th>\n",
       "      <th>avg_speed(km/h)</th>\n",
       "      <th>ecr_deviation</th>\n",
       "      <th>fuel_note</th>\n",
       "    </tr>\n",
       "  </thead>\n",
       "  <tbody>\n",
       "    <tr>\n",
       "      <th>0</th>\n",
       "      <td>Volkswagen</td>\n",
       "      <td>Golf</td>\n",
       "      <td>e-Golf</td>\n",
       "      <td>0.610891204</td>\n",
       "      <td>75140</td>\n",
       "      <td>67</td>\n",
       "      <td>7.97</td>\n",
       "      <td>Electricity</td>\n",
       "      <td>Summer tires</td>\n",
       "      <td>1</td>\n",
       "      <td>0</td>\n",
       "      <td>1</td>\n",
       "      <td>Normal</td>\n",
       "      <td>11.9</td>\n",
       "      <td>0</td>\n",
       "      <td>0</td>\n",
       "      <td>45.0</td>\n",
       "      <td>-0.8</td>\n",
       "      <td>Restreichweite 100km = Total 167km</td>\n",
       "    </tr>\n",
       "    <tr>\n",
       "      <th>1</th>\n",
       "      <td>Volkswagen</td>\n",
       "      <td>Golf</td>\n",
       "      <td>e-Golf</td>\n",
       "      <td>0.52755787</td>\n",
       "      <td>75073</td>\n",
       "      <td>96</td>\n",
       "      <td>11.42</td>\n",
       "      <td>Electricity</td>\n",
       "      <td>Summer tires</td>\n",
       "      <td>1</td>\n",
       "      <td>1</td>\n",
       "      <td>1</td>\n",
       "      <td>Moderate</td>\n",
       "      <td>11.9</td>\n",
       "      <td>0</td>\n",
       "      <td>0</td>\n",
       "      <td>66.0</td>\n",
       "      <td>-0.8</td>\n",
       "      <td>NaN</td>\n",
       "    </tr>\n",
       "    <tr>\n",
       "      <th>2</th>\n",
       "      <td>Volkswagen</td>\n",
       "      <td>Golf</td>\n",
       "      <td>e-Golf</td>\n",
       "      <td>0.52755787</td>\n",
       "      <td>74977</td>\n",
       "      <td>106</td>\n",
       "      <td>12.29</td>\n",
       "      <td>Electricity</td>\n",
       "      <td>Summer tires</td>\n",
       "      <td>1</td>\n",
       "      <td>1</td>\n",
       "      <td>1</td>\n",
       "      <td>Moderate</td>\n",
       "      <td>11.6</td>\n",
       "      <td>0</td>\n",
       "      <td>0</td>\n",
       "      <td>52.0</td>\n",
       "      <td>-1.1</td>\n",
       "      <td>CCS St.Katarina Restreichweite 56km = Total 162km</td>\n",
       "    </tr>\n",
       "    <tr>\n",
       "      <th>3</th>\n",
       "      <td>Volkswagen</td>\n",
       "      <td>Golf</td>\n",
       "      <td>e-Golf</td>\n",
       "      <td>0.485891204</td>\n",
       "      <td>74871</td>\n",
       "      <td>66</td>\n",
       "      <td>7.59</td>\n",
       "      <td>Electricity</td>\n",
       "      <td>Summer tires</td>\n",
       "      <td>1</td>\n",
       "      <td>0</td>\n",
       "      <td>1</td>\n",
       "      <td>Normal</td>\n",
       "      <td>11.5</td>\n",
       "      <td>0</td>\n",
       "      <td>0</td>\n",
       "      <td>44.0</td>\n",
       "      <td>-1.2</td>\n",
       "      <td>Restreichweite 105km = Total 171km</td>\n",
       "    </tr>\n",
       "    <tr>\n",
       "      <th>4</th>\n",
       "      <td>Volkswagen</td>\n",
       "      <td>Golf</td>\n",
       "      <td>e-Golf</td>\n",
       "      <td>0.444224537</td>\n",
       "      <td>74805</td>\n",
       "      <td>99</td>\n",
       "      <td>11.48</td>\n",
       "      <td>Electricity</td>\n",
       "      <td>Summer tires</td>\n",
       "      <td>1</td>\n",
       "      <td>0</td>\n",
       "      <td>1</td>\n",
       "      <td>Moderate</td>\n",
       "      <td>11.6</td>\n",
       "      <td>0</td>\n",
       "      <td>0</td>\n",
       "      <td>41.0</td>\n",
       "      <td>-1.1</td>\n",
       "      <td>Restreichweite 72km = Total 171km</td>\n",
       "    </tr>\n",
       "  </tbody>\n",
       "</table>\n",
       "</div>"
      ],
      "text/plain": [
       "  manufacturer model version    fuel_date  odometer  trip_distance(km)  \\\n",
       "0   Volkswagen  Golf  e-Golf  0.610891204     75140                 67   \n",
       "1   Volkswagen  Golf  e-Golf   0.52755787     75073                 96   \n",
       "2   Volkswagen  Golf  e-Golf   0.52755787     74977                106   \n",
       "3   Volkswagen  Golf  e-Golf  0.485891204     74871                 66   \n",
       "4   Volkswagen  Golf  e-Golf  0.444224537     74805                 99   \n",
       "\n",
       "   quantity(kWh)    fuel_type     tire_type  city  motor_way  country_roads  \\\n",
       "0           7.97  Electricity  Summer tires     1          0              1   \n",
       "1          11.42  Electricity  Summer tires     1          1              1   \n",
       "2          12.29  Electricity  Summer tires     1          1              1   \n",
       "3           7.59  Electricity  Summer tires     1          0              1   \n",
       "4          11.48  Electricity  Summer tires     1          0              1   \n",
       "\n",
       "  driving_style  consumption(kWh/100km)  A/C  park_heating  avg_speed(km/h)  \\\n",
       "0        Normal                    11.9    0             0             45.0   \n",
       "1      Moderate                    11.9    0             0             66.0   \n",
       "2      Moderate                    11.6    0             0             52.0   \n",
       "3        Normal                    11.5    0             0             44.0   \n",
       "4      Moderate                    11.6    0             0             41.0   \n",
       "\n",
       "   ecr_deviation                                          fuel_note  \n",
       "0           -0.8                 Restreichweite 100km = Total 167km  \n",
       "1           -0.8                                                NaN  \n",
       "2           -1.1  CCS St.Katarina Restreichweite 56km = Total 162km  \n",
       "3           -1.2                 Restreichweite 105km = Total 171km  \n",
       "4           -1.1                  Restreichweite 72km = Total 171km  "
      ]
     },
     "execution_count": 25,
     "metadata": {},
     "output_type": "execute_result"
    }
   ],
   "source": [
    "data.head()"
   ]
  },
  {
   "cell_type": "code",
   "execution_count": 26,
   "metadata": {},
   "outputs": [
    {
     "data": {
      "text/plain": [
       "manufacturer               0\n",
       "model                      0\n",
       "version                    0\n",
       "fuel_date                  0\n",
       "odometer                   0\n",
       "trip_distance(km)          0\n",
       "quantity(kWh)              0\n",
       "fuel_type                  0\n",
       "tire_type                  0\n",
       "city                       0\n",
       "motor_way                  0\n",
       "country_roads              0\n",
       "driving_style              0\n",
       "consumption(kWh/100km)     0\n",
       "A/C                        0\n",
       "park_heating               0\n",
       "avg_speed(km/h)           15\n",
       "ecr_deviation              0\n",
       "fuel_note                 91\n",
       "dtype: int64"
      ]
     },
     "execution_count": 26,
     "metadata": {},
     "output_type": "execute_result"
    }
   ],
   "source": [
    "data.isnull().sum()\n"
   ]
  },
  {
   "cell_type": "code",
   "execution_count": 27,
   "metadata": {},
   "outputs": [
    {
     "data": {
      "text/plain": [
       "(818, 19)"
      ]
     },
     "execution_count": 27,
     "metadata": {},
     "output_type": "execute_result"
    }
   ],
   "source": [
    "data.shape"
   ]
  },
  {
   "cell_type": "code",
   "execution_count": 28,
   "metadata": {},
   "outputs": [
    {
     "data": {
      "text/plain": [
       "(803, 19)"
      ]
     },
     "execution_count": 28,
     "metadata": {},
     "output_type": "execute_result"
    }
   ],
   "source": [
    "data.dropna(subset=['avg_speed(km/h)']).shape"
   ]
  },
  {
   "cell_type": "code",
   "execution_count": 29,
   "metadata": {},
   "outputs": [],
   "source": [
    "data.dropna(subset=['avg_speed(km/h)'],inplace=True)"
   ]
  },
  {
   "cell_type": "code",
   "execution_count": 30,
   "metadata": {},
   "outputs": [
    {
     "data": {
      "text/plain": [
       "(803, 19)"
      ]
     },
     "execution_count": 30,
     "metadata": {},
     "output_type": "execute_result"
    }
   ],
   "source": [
    "data.shape"
   ]
  },
  {
   "cell_type": "code",
   "execution_count": 31,
   "metadata": {},
   "outputs": [
    {
     "data": {
      "text/plain": [
       "Index(['manufacturer', 'model', 'version', 'fuel_date', 'odometer',\n",
       "       'trip_distance(km)', 'quantity(kWh)', 'fuel_type', 'tire_type', 'city',\n",
       "       'motor_way', 'country_roads', 'driving_style', 'consumption(kWh/100km)',\n",
       "       'A/C', 'park_heating', 'avg_speed(km/h)', 'ecr_deviation', 'fuel_note'],\n",
       "      dtype='object')"
      ]
     },
     "execution_count": 31,
     "metadata": {},
     "output_type": "execute_result"
    }
   ],
   "source": [
    "data.columns"
   ]
  },
  {
   "cell_type": "markdown",
   "metadata": {},
   "source": [
    "# fixing outliers \n"
   ]
  },
  {
   "cell_type": "code",
   "execution_count": 32,
   "metadata": {},
   "outputs": [
    {
     "data": {
      "text/plain": [
       "49.0"
      ]
     },
     "execution_count": 32,
     "metadata": {},
     "output_type": "execute_result"
    }
   ],
   "source": [
    "data['avg_speed(km/h)'].describe()[6]"
   ]
  },
  {
   "cell_type": "code",
   "execution_count": 33,
   "metadata": {},
   "outputs": [],
   "source": [
    "def count_outliers(data,column):\n",
    "    count=0\n",
    "    q1=data[column].describe()[4]\n",
    "    q3=data[column].describe()[6]\n",
    "    iqr=q3-q1\n",
    "    for i in data[column]:\n",
    "        if (i<q1-(1.5*iqr)) or (i>q3+(1.5*iqr)):\n",
    "            count+=1\n",
    "    return count\n",
    "            \n",
    "    "
   ]
  },
  {
   "cell_type": "code",
   "execution_count": 34,
   "metadata": {},
   "outputs": [],
   "source": [
    "outlier_columns=[\n",
    "       'trip_distance(km)', 'quantity(kWh)',\n",
    "        'consumption(kWh/100km)',\n",
    "       'avg_speed(km/h)', 'ecr_deviation']"
   ]
  },
  {
   "cell_type": "code",
   "execution_count": 35,
   "metadata": {},
   "outputs": [
    {
     "name": "stdout",
     "output_type": "stream",
     "text": [
      "No of outliers in trip_distance(km) are 1\n",
      "No of outliers in quantity(kWh) are 0\n",
      "No of outliers in consumption(kWh/100km) are 4\n",
      "No of outliers in avg_speed(km/h) are 78\n",
      "No of outliers in ecr_deviation are 3\n"
     ]
    }
   ],
   "source": [
    "for column in outlier_columns:\n",
    "    print(\"No of outliers in {} are {}\".format(column,count_outliers(data,column)))\n",
    "    "
   ]
  },
  {
   "cell_type": "code",
   "execution_count": 36,
   "metadata": {},
   "outputs": [],
   "source": [
    "def remove_outliers(data,column_list):\n",
    "    for column in column_list:\n",
    "        q1=data[column].describe()[4]\n",
    "        q3=data[column].describe()[6]\n",
    "        iqr=q3-q1\n",
    "        for i in data[column]:\n",
    "            if (i<q1-(1.5*iqr)) or (i>q3+(1.5*iqr)):\n",
    "                data = data.loc[data[column] != i]\n",
    "    return data\n",
    "            \n",
    "    "
   ]
  },
  {
   "cell_type": "code",
   "execution_count": 37,
   "metadata": {},
   "outputs": [
    {
     "data": {
      "text/plain": [
       "(803, 19)"
      ]
     },
     "execution_count": 37,
     "metadata": {},
     "output_type": "execute_result"
    }
   ],
   "source": [
    "data.shape"
   ]
  },
  {
   "cell_type": "code",
   "execution_count": 38,
   "metadata": {},
   "outputs": [],
   "source": [
    "data=remove_outliers(data,outlier_columns)\n",
    "    "
   ]
  },
  {
   "cell_type": "code",
   "execution_count": 39,
   "metadata": {},
   "outputs": [
    {
     "data": {
      "text/plain": [
       "(717, 19)"
      ]
     },
     "execution_count": 39,
     "metadata": {},
     "output_type": "execute_result"
    }
   ],
   "source": [
    "data.shape"
   ]
  },
  {
   "cell_type": "code",
   "execution_count": 41,
   "metadata": {},
   "outputs": [
    {
     "name": "stdout",
     "output_type": "stream",
     "text": [
      "No of outliers in trip_distance(km) are 0\n",
      "No of outliers in quantity(kWh) are 0\n",
      "No of outliers in consumption(kWh/100km) are 0\n",
      "No of outliers in avg_speed(km/h) are 29\n",
      "No of outliers in ecr_deviation are 0\n"
     ]
    }
   ],
   "source": [
    "for column in outlier_columns:\n",
    "    print(\"No of outliers in {} are {}\".format(column,count_outliers(data,column)))\n",
    "    "
   ]
  },
  {
   "cell_type": "code",
   "execution_count": 42,
   "metadata": {},
   "outputs": [],
   "source": [
    "data.to_csv(\"data_cleaned.csv\",index=False)"
   ]
  },
  {
   "cell_type": "code",
   "execution_count": null,
   "metadata": {},
   "outputs": [],
   "source": []
  }
 ],
 "metadata": {
  "kernelspec": {
   "display_name": "Python 3",
   "language": "python",
   "name": "python3"
  },
  "language_info": {
   "codemirror_mode": {
    "name": "ipython",
    "version": 3
   },
   "file_extension": ".py",
   "mimetype": "text/x-python",
   "name": "python",
   "nbconvert_exporter": "python",
   "pygments_lexer": "ipython3",
   "version": "3.7.6"
  }
 },
 "nbformat": 4,
 "nbformat_minor": 4
}
