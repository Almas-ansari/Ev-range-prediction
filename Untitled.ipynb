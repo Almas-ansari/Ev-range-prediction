{
 "cells": [
  {
   "cell_type": "code",
   "execution_count": 2,
   "metadata": {},
   "outputs": [],
   "source": [
    "import pandas as pd\n",
    "import numpy as np\n",
    "from sklearn.svm import SVR\n",
    "from sklearn.model_selection import train_test_split\n",
    "\n",
    "from sklearn.metrics import mean_squared_error as mse\n"
   ]
  },
  {
   "cell_type": "code",
   "execution_count": 3,
   "metadata": {},
   "outputs": [],
   "source": [
    "import matplotlib.pyplot as plt\n",
    "import seaborn as sns"
   ]
  },
  {
   "cell_type": "code",
   "execution_count": 4,
   "metadata": {},
   "outputs": [],
   "source": [
    "data=pd.read_csv(\"data_cleaned.csv\")\n"
   ]
  },
  {
   "cell_type": "code",
   "execution_count": 5,
   "metadata": {},
   "outputs": [],
   "source": [
    "X=data.drop(['fuel_note','manufacturer', 'model', 'version', 'fuel_date', 'odometer',\n",
    "       'trip_distance(km)', 'fuel_type','tire_type', 'driving_style',],axis=1)\n",
    "Y=data['trip_distance(km)']"
   ]
  },
  {
   "cell_type": "code",
   "execution_count": 6,
   "metadata": {},
   "outputs": [],
   "source": [
    "X_train,X_test,y_train,y_test=train_test_split(X,Y,random_state=1)"
   ]
  },
  {
   "cell_type": "code",
   "execution_count": 7,
   "metadata": {},
   "outputs": [],
   "source": [
    "svr=SVR()"
   ]
  },
  {
   "cell_type": "code",
   "execution_count": 9,
   "metadata": {},
   "outputs": [
    {
     "data": {
      "text/plain": [
       "SVR(C=1.0, cache_size=200, coef0=0.0, degree=3, epsilon=0.1, gamma='scale',\n",
       "    kernel='rbf', max_iter=-1, shrinking=True, tol=0.001, verbose=False)"
      ]
     },
     "execution_count": 9,
     "metadata": {},
     "output_type": "execute_result"
    }
   ],
   "source": [
    "svr.fit(X_train,y_train)"
   ]
  },
  {
   "cell_type": "code",
   "execution_count": 10,
   "metadata": {},
   "outputs": [],
   "source": [
    "y_pred=svr.predict(X_test)"
   ]
  },
  {
   "cell_type": "code",
   "execution_count": 11,
   "metadata": {},
   "outputs": [
    {
     "data": {
      "text/plain": [
       "array([77.54065283, 85.47050207, 66.51949119, 70.24647355, 86.68527771,\n",
       "       81.65877549, 82.09542084, 64.52472524, 73.17829897, 69.29268218,\n",
       "       73.340167  , 76.18408784, 88.3012682 , 64.4037128 , 78.37308557,\n",
       "       73.89249028, 67.24249338, 67.18898655, 55.19888793, 80.58513298,\n",
       "       66.18888055, 70.51988287, 78.3920633 , 68.50456352, 72.82616912,\n",
       "       72.68757529, 57.08303188, 71.03387783, 48.24148201, 79.39340765,\n",
       "       73.13343405, 67.44459846, 61.07131301, 65.49674935, 58.97832757,\n",
       "       68.11759251, 77.45215448, 66.80817905, 76.46011658, 51.52013286,\n",
       "       55.8083468 , 72.68631826, 58.26447419, 87.99912485, 75.31916553,\n",
       "       72.41553678, 62.99551689, 76.54213318, 52.44644057, 74.40027876,\n",
       "       59.31893167, 66.61188779, 84.01890773, 77.62894277, 78.51965642,\n",
       "       58.63297878, 76.79261991, 82.00885822, 70.19202032, 59.93307511,\n",
       "       66.53220652, 66.00602197, 74.94391139, 71.97583723, 68.53438738,\n",
       "       78.41400109, 79.12098468, 61.80671572, 49.59541169, 68.31474044,\n",
       "       75.31166369, 53.87127613, 73.4827572 , 80.64068128, 74.61806294,\n",
       "       75.81773685, 80.13696404, 84.72303239, 64.92514449, 62.15248897,\n",
       "       63.13239592, 69.73016344, 65.04742452, 62.51237111, 72.90259876,\n",
       "       73.12611152, 70.00472617, 74.33498191, 51.44424858, 79.60424346,\n",
       "       65.09854073, 71.54714494, 55.68185315, 65.82527353, 64.50643838,\n",
       "       70.25510691, 65.79172761, 62.47353322, 63.65655664, 62.27510597,\n",
       "       64.45222822, 52.59018211, 61.12059309, 66.2439631 , 85.14341195,\n",
       "       76.24042403, 82.00950038, 54.66916088, 67.0023775 , 60.27070496,\n",
       "       62.3865987 , 63.44073546, 72.58600646, 57.58189933, 77.30096885,\n",
       "       61.96271779, 63.04664705, 64.71967765, 74.18429887, 84.82292254,\n",
       "       80.56881807, 75.99765181, 49.89822668, 60.23099952, 74.32724073,\n",
       "       52.09850966, 73.93820553, 83.0561588 , 63.69429499, 82.39872582,\n",
       "       74.74404893, 71.9920114 , 56.23353724, 61.02148281, 55.29700952,\n",
       "       67.40098182, 54.93660609, 60.27474737, 73.71469038, 59.02822927,\n",
       "       76.43902954, 65.6296517 , 79.43698527, 76.46061194, 72.92865641,\n",
       "       73.6142934 , 73.76719736, 75.62238874, 64.09642226, 59.8324706 ,\n",
       "       55.20361472, 70.09708354, 83.85770059, 83.43194054, 66.2899646 ,\n",
       "       65.12483206, 67.9478923 , 66.22182671, 68.12737897, 75.04408975,\n",
       "       73.1575347 , 62.59608431, 85.59312556, 70.93478344, 61.63817407,\n",
       "       81.18580396, 67.81198239, 64.24815061, 65.554014  , 78.20124608,\n",
       "       79.65989169, 63.93054772, 73.97835207, 70.45471409, 65.88343773,\n",
       "       68.6782821 , 69.72957743, 60.73246973, 69.6017986 , 84.99288024])"
      ]
     },
     "execution_count": 11,
     "metadata": {},
     "output_type": "execute_result"
    }
   ],
   "source": [
    "y_pred-y_t"
   ]
  },
  {
   "cell_type": "code",
   "execution_count": null,
   "metadata": {},
   "outputs": [],
   "source": []
  }
 ],
 "metadata": {
  "kernelspec": {
   "display_name": "Python 3",
   "language": "python",
   "name": "python3"
  },
  "language_info": {
   "codemirror_mode": {
    "name": "ipython",
    "version": 3
   },
   "file_extension": ".py",
   "mimetype": "text/x-python",
   "name": "python",
   "nbconvert_exporter": "python",
   "pygments_lexer": "ipython3",
   "version": "3.7.6"
  }
 },
 "nbformat": 4,
 "nbformat_minor": 4
}
